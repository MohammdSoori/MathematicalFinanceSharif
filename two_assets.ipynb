{
  "cells": [
    {
      "cell_type": "code",
      "execution_count": null,
      "metadata": {
        "id": "nPIzYC8Zotli"
      },
      "outputs": [],
      "source": [
        "print(\"h\")"
      ]
    },
    {
      "cell_type": "code",
      "execution_count": null,
      "metadata": {
        "colab": {
          "background_save": true
        },
        "id": "kn9z-nzjZsq0"
      },
      "outputs": [],
      "source": [
        "import tensorflow as tf\n",
        "import numpy as np\n",
        "import time\n",
        "import random\n",
        "import math\n",
        "\n",
        "# Check if GPU is available and if so, set the device\n",
        "if tf.config.experimental.list_physical_devices(\"GPU\"):\n",
        "    print(\"GPU available. Using GPU for calculations.\")\n",
        "    device = '/GPU:0'\n",
        "else:\n",
        "    print(\"GPU not available. Using CPU for calculations.\")\n",
        "    device = '/CPU:0'"
      ]
    },
    {
      "cell_type": "code",
      "execution_count": null,
      "metadata": {
        "id": "c14PNjp1a_xj"
      },
      "outputs": [],
      "source": [
        "import tensorflow as tf\n",
        "import numpy as np\n",
        "import time\n",
        "\n",
        "def generate_theta_1(size):  #reference measure theta(1) which is theta1 * theta2\n",
        "  points=np.zeros([size,2])\n",
        "  points[:,0]=np.random.random_sample(size)  #theta1\n",
        "  points[:,1]=2*(np.random.random_sample(size)**2) #theta2\n",
        "\n",
        "  return points\n",
        "\n",
        "def generate_theta_2(size):  #reference measure theta(2) which is 0.5*theta(2) + 0.5* same\n",
        "\n",
        "   points = np.zeros([size, 2])\n",
        "   points[:, 0] = np.random.random_sample(size) #theta1 part- in both cases the same\n",
        "   points[:round(size/2), 1] = 2 * ((np.random.random_sample(round(size/2))) ** 2) #theta2 part where it's just mapping the same for half of it\n",
        "   points[round(size/2):, 1] = 2 * (points[round(size/2):, 0] ** 2) #theta2 part where it's taking the theta1 part for half of it and enforcing theta2 on it\n",
        "\n",
        "   return points\n",
        "\n",
        "def create_model(m=64):  #Creating the uni-varaite functions h_1 and h_2 as DNN models\n",
        "    model = tf.keras.Sequential([\n",
        "        tf.keras.layers.Dense(m, input_shape=(1,), activation='relu',\n",
        "                              kernel_initializer=tf.random_uniform_initializer(minval=-1, maxval=1),\n",
        "                              bias_initializer=tf.random_uniform_initializer(minval=-1, maxval=1)),\n",
        "        tf.keras.layers.Dense(m, activation='relu',\n",
        "                              kernel_initializer=tf.random_uniform_initializer(minval=-1, maxval=1),\n",
        "                              bias_initializer=tf.random_uniform_initializer(minval=-1, maxval=1)),\n",
        "        tf.keras.layers.Dense(m, activation='relu',\n",
        "                              kernel_initializer=tf.random_uniform_initializer(minval=-1, maxval=1),\n",
        "                              bias_initializer=tf.random_uniform_initializer(minval=-1, maxval=1)),\n",
        "        tf.keras.layers.Dense(1,\n",
        "                              kernel_initializer=tf.random_uniform_initializer(minval=-1, maxval=1))\n",
        "    ])\n",
        "    return model\n",
        "\n",
        "def create_models(m=64):\n",
        "    h1 = create_model(m)\n",
        "    h2 = create_model(m)\n",
        "    return h1, h2\n",
        "\n",
        "# Define the function h\n",
        "def h(data,h1,h2):\n",
        "  x_1=data[:,0:1]\n",
        "  x_2=data[:,1:2]\n",
        "  h_1= h1(x_1)\n",
        "  h_2= h2(x_2)\n",
        "  return h_1 + h_2\n",
        "\n",
        "def integral_h(data,h1,h2):\n",
        "  return tf.reduce_mean(h(data,h1,h2))\n",
        "\n",
        "def portfolio_return(x1,x2, w):  # w is the weight for the second portfolio\n",
        "  return (1-w)*x1 + w*x2\n",
        "\n",
        "\n",
        "def variance(input):\n",
        "  mean=tf.reduce_mean(input)\n",
        "  return (input-mean)**2\n",
        "\n",
        "def f(portfolio_return,landa):\n",
        "  return portfolio_return-landa*variance(portfolio_return)\n",
        "\n",
        "\n",
        "def no_short_selling_penalty(w):\n",
        "  return 100 * tf.nn.relu(-w) + 100 * tf.nn.relu((w-1))\n",
        "\n",
        "def integral_beta(gamma,landa,data,w,h1,h2):\n",
        "  output= tf.reduce_mean( (1/gamma)* tf.square(gamma*tf.nn.relu(((-f(portfolio_return(data[:,0:1],data[:,1:2],w),landa)-h(data,h1,h2))))))\n",
        "  return output\n",
        "\n",
        "def target_function(data,size,gamma,landa,w,h1,h2,no_short_selling=True):\n",
        "\n",
        "  temp= integral_h(data,h1,h2) + integral_beta(gamma,landa,data,w,h1,h2)\n",
        "  if no_short_selling:\n",
        "    temp+=no_short_selling_penalty(w)\n",
        "  return temp\n",
        "\n",
        "def analytical_portfolio(landa):\n",
        "  if landa==0:\n",
        "    return 1\n",
        "  if landa==1:\n",
        "    return 0\n",
        "\n",
        "  temp = 15*(1-landa)/(19*landa)\n",
        "\n",
        "  if temp>1:\n",
        "    temp=math.floor(temp)\n",
        "\n",
        "  return temp\n",
        "\n",
        "def analytical_optimal_value(landa):\n",
        "  w=analytical_portfolio(landa)\n",
        "  return (0.5+ w/6 -landa*(1/12 + w/6 + (19*w**2)/180))"
      ]
    },
    {
      "cell_type": "code",
      "execution_count": null,
      "metadata": {
        "id": "BlNgA1wHh1xh"
      },
      "outputs": [],
      "source": [
        "gamma=160\n",
        "landa=0.8\n",
        "size=2**12\n",
        "learning_rate=0.001\n",
        "beta1=0.99\n",
        "beta2=0.995\n",
        "epochs=10000\n",
        "tol_h = 1e-5\n",
        "num_experiments=15\n",
        "m=32"
      ]
    },
    {
      "cell_type": "code",
      "execution_count": null,
      "metadata": {
        "colab": {
          "base_uri": "https://localhost:8080/",
          "height": 1000
        },
        "id": "2Ph75YaCiHep",
        "outputId": "a73fe226-e5a6-419a-df5a-2960fb711747"
      },
      "outputs": [
        {
          "name": "stdout",
          "output_type": "stream",
          "text": [
            "Starting experiment 1\n",
            "Epoch: 0 Loss for h1 and h2 and w: 483.37082\n",
            "Epoch: 1000 Loss for h1 and h2 and w: -0.35894167\n",
            "Epoch: 2000 Loss for h1 and h2 and w: -0.443291\n",
            "Epoch: 3000 Loss for h1 and h2 and w: -0.44557002\n",
            "Epoch: 4000 Loss for h1 and h2 and w: -0.44549823\n",
            "Epoch: 5000 Loss for h1 and h2 and w: -0.44562608\n",
            "Epoch: 6000 Loss for h1 and h2 and w: -0.44546983\n",
            "Epoch: 7000 Loss for h1 and h2 and w: -0.44529104\n",
            "Epoch: 8000 Loss for h1 and h2 and w: -0.44546273\n",
            "Epoch: 9000 Loss for h1 and h2 and w: -0.4455218\n",
            "Optimal w for experiment 1 : 0.21780528\n"
          ]
        },
        {
          "data": {
            "image/png": "[encoded data removed]",
            "text/plain": [
              "<Figure size 1200x600 with 1 Axes>"
            ]
          },
          "metadata": {},
          "output_type": "display_data"
        },
        {
          "name": "stdout",
          "output_type": "stream",
          "text": [
            "Starting experiment 2\n",
            "Epoch: 0 Loss for h1 and h2 and w: 22.400047\n",
            "Epoch: 1000 Loss for h1 and h2 and w: -0.44188982\n",
            "Epoch: 2000 Loss for h1 and h2 and w: -0.44699645\n",
            "Epoch: 3000 Loss for h1 and h2 and w: -0.4474156\n",
            "Epoch: 4000 Loss for h1 and h2 and w: -0.4474811\n",
            "Epoch: 5000 Loss for h1 and h2 and w: -0.44710672\n",
            "Epoch: 6000 Loss for h1 and h2 and w: -0.44759762\n",
            "Epoch: 7000 Loss for h1 and h2 and w: -0.44706568\n",
            "Epoch: 8000 Loss for h1 and h2 and w: -0.447308\n",
            "Epoch: 9000 Loss for h1 and h2 and w: -0.4471357\n",
            "Optimal w for experiment 2 : 0.211396\n"
          ]
        },
        {
          "data": {
            "image/png": "[encoded data removed]",
            "text/plain": [
              "<Figure size 1200x600 with 1 Axes>"
            ]
          },
          "metadata": {},
          "output_type": "display_data"
        },
        {
          "name": "stdout",
          "output_type": "stream",
          "text": [
            "Starting experiment 3\n",
            "Epoch: 0 Loss for h1 and h2 and w: 22.526709\n",
            "Epoch: 1000 Loss for h1 and h2 and w: -0.43891\n",
            "Epoch: 2000 Loss for h1 and h2 and w: -0.44620994\n",
            "Epoch: 3000 Loss for h1 and h2 and w: -0.44612077\n",
            "Epoch: 4000 Loss for h1 and h2 and w: -0.44602287\n",
            "Epoch: 5000 Loss for h1 and h2 and w: -0.4461378\n",
            "Epoch: 6000 Loss for h1 and h2 and w: -0.4461335\n",
            "Epoch: 7000 Loss for h1 and h2 and w: -0.44633245\n"
          ]
        }
      ],
      "source": [
        "import matplotlib.pyplot as plt\n",
        "import math as math\n",
        "with tf.device(device):\n",
        "  # Prepare a list to store the final w values\n",
        "  final_w_values = []\n",
        "\n",
        "\n",
        "  # Start the experiments\n",
        "  for i in range(num_experiments):\n",
        "      print(\"Starting experiment\", i + 1)\n",
        "\n",
        "      # Reset the models and w for each experiment\n",
        "      h1, h2 = create_models(m)\n",
        "      w = tf.Variable(0.5)\n",
        "\n",
        "      # Define the optimizers\n",
        "      optimizer = tf.keras.optimizers.Adam(learning_rate=learning_rate, beta_1=beta1, beta_2=beta2)\n",
        "      # Generate new data for each experiment\n",
        "      data = generate_theta_1(size)\n",
        "\n",
        "      # Prepare lists to store the loss values for plotting\n",
        "      loss_values_h = []\n",
        "      recorded_loss=100000000\n",
        "\n",
        "      # Training loop for h1 and h2\n",
        "      for epoch in range(epochs):\n",
        "          Flag=False\n",
        "          with tf.GradientTape() as tape:\n",
        "              loss = target_function(data, size, gamma, landa, w, h1, h2)\n",
        "\n",
        "          grads = tape.gradient(loss, h1.trainable_variables + h2.trainable_variables + [w])\n",
        "          optimizer.apply_gradients(zip(grads, h1.trainable_variables + h2.trainable_variables + [w]))\n",
        "          # Store the loss value for plotting\n",
        "          loss_values_h.append(loss.numpy())\n",
        "\n",
        "          # Print the loss value every 10 epochs\n",
        "          if epoch % 1000 == 0:\n",
        "              print('Epoch:', epoch, 'Loss for h1 and h2 and w:', loss.numpy())\n",
        "              if abs(recorded_loss-loss)<tol_h:\n",
        "                Flag=True\n",
        "              recorded_loss=loss.numpy()\n",
        "\n",
        "\n",
        "\n",
        "\n",
        "\n",
        "          prev_w = w.numpy()\n",
        "\n",
        "      # Record the optimal w value for this experiment\n",
        "      if not Flag:\n",
        "        final_w_values.append(w.numpy())\n",
        "        print(\"Optimal w for experiment\", i + 1, \":\", w.numpy())\n",
        "      else:\n",
        "        print(\"This is a case a vanishing gradients\")\n",
        "        break\n",
        "      # Plot the loss values\n",
        "      plt.figure(figsize=(12, 6))\n",
        "      plt.plot(loss_values_h)\n",
        "      plt.title('Loss for h1 and h2 and w for experiment ' + str(i+1))\n",
        "      plt.show()\n",
        "  # Compute and print the mean of the optimal w values\n",
        "  mean_w = np.mean(final_w_values)\n",
        "  print(\"Mean of optimal w values:\", mean_w)\n"
      ]
    },
    {
      "cell_type": "code",
      "execution_count": null,
      "metadata": {
        "id": "7FZO_NHndgcO"
      },
      "outputs": [],
      "source": [
        "# Plot the mean of optimal w values for different values of m\n",
        "plt.figure(figsize=(10, 6))\n",
        "plt.plot(m_values, mean_w_values, 'o-')\n",
        "plt.xlabel('m')\n",
        "plt.ylabel('Mean of optimal w values')\n",
        "plt.title('Mean of optimal w values for different values of m')\n",
        "plt.grid(True)\n",
        "plt.show()\n",
        "\n",
        "# Plot the mean of optimal w values for different values of gamma\n",
        "plt.figure(figsize=(10, 6))\n",
        "plt.plot(gamma_values, mean_w_values, 'o-')\n",
        "plt.xlabel('gamma')\n",
        "plt.ylabel('Mean of optimal w values')\n",
        "plt.title('Mean of optimal w values for different values of gamma')\n",
        "plt.grid(True)\n",
        "plt.show()\n",
        "\n",
        "# Plot the mean of optimal w values for different values of m and gamma\n",
        "fig = plt.figure(figsize=(10, 6))\n",
        "ax = fig.add_subplot(111, projection='3d')\n",
        "ax.scatter(m_values, gamma_values, mean_w_values)\n",
        "ax.set_xlabel('m')\n",
        "ax.set_ylabel('gamma')\n",
        "ax.set_zlabel('Mean of optimal w values')\n",
        "plt.title('Mean of optimal w values for different values of m and gamma')\n",
        "plt.show()"
      ]
    }
  ],
  "metadata": {
    "accelerator": "GPU",
    "colab": {
      "provenance": []
    },
    "kernelspec": {
      "display_name": "Python 3",
      "name": "python3"
    },
    "language_info": {
      "name": "python"
    }
  },
  "nbformat": 4,
  "nbformat_minor": 0
}